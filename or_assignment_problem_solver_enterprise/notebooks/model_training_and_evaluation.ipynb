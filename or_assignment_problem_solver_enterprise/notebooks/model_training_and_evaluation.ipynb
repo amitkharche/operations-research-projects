{
 "cells": [
  {
   "cell_type": "markdown",
   "id": "e2e774b1",
   "metadata": {},
   "source": [
    "# 🧮 Assignment Problem Solver"
   ]
  },
  {
   "cell_type": "code",
   "execution_count": null,
   "id": "b71760ed",
   "metadata": {},
   "outputs": [],
   "source": [
    "import pandas as pd\n",
    "from scipy.optimize import linear_sum_assignment"
   ]
  },
  {
   "cell_type": "code",
   "execution_count": null,
   "id": "75052725",
   "metadata": {},
   "outputs": [],
   "source": [
    "df = pd.read_csv('data/raw/cost_matrix.csv', index_col=0)"
   ]
  },
  {
   "cell_type": "code",
   "execution_count": null,
   "id": "261eb7a0",
   "metadata": {},
   "outputs": [],
   "source": [
    "row_ind, col_ind = linear_sum_assignment(df.values)"
   ]
  },
  {
   "cell_type": "code",
   "execution_count": null,
   "id": "5968e340",
   "metadata": {},
   "outputs": [],
   "source": [
    "assignments = list(zip(df.index[row_ind], df.columns[col_ind]))\n",
    "assignments"
   ]
  },
  {
   "cell_type": "code",
   "execution_count": null,
   "id": "a8b67071",
   "metadata": {},
   "outputs": [],
   "source": [
    "total_cost = df.values[row_ind, col_ind].sum()\n",
    "print(f'Total Assignment Cost: {total_cost}')"
   ]
  }
 ],
 "metadata": {},
 "nbformat": 4,
 "nbformat_minor": 5
}
