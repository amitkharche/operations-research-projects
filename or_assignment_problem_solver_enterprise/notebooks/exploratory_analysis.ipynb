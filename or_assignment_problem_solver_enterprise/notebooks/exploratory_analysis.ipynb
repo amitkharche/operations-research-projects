{
 "cells": [
  {
   "cell_type": "markdown",
   "id": "b074adb6",
   "metadata": {},
   "source": [
    "# 📊 EDA - Assignment Problem Cost Matrix"
   ]
  },
  {
   "cell_type": "code",
   "execution_count": null,
   "id": "1caec58d",
   "metadata": {},
   "outputs": [],
   "source": [
    "import pandas as pd\n",
    "import seaborn as sns\n",
    "import matplotlib.pyplot as plt"
   ]
  },
  {
   "cell_type": "code",
   "execution_count": null,
   "id": "32b0e80a",
   "metadata": {},
   "outputs": [],
   "source": [
    "df = pd.read_csv('data/raw/cost_matrix.csv', index_col=0)\n",
    "df"
   ]
  },
  {
   "cell_type": "code",
   "execution_count": null,
   "id": "0ba6ffc0",
   "metadata": {},
   "outputs": [],
   "source": [
    "sns.heatmap(df, annot=True, cmap='YlGnBu'); plt.title('Cost Matrix Heatmap'); plt.show()"
   ]
  }
 ],
 "metadata": {},
 "nbformat": 4,
 "nbformat_minor": 5
}
