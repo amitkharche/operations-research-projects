{
 "cells": [
  {
   "cell_type": "markdown",
   "id": "7ac6b17b",
   "metadata": {},
   "source": [
    "# 📊 Inventory EDA & Summary Stats"
   ]
  },
  {
   "cell_type": "code",
   "execution_count": null,
   "id": "77384c08",
   "metadata": {},
   "outputs": [],
   "source": [
    "import pandas as pd\n",
    "import seaborn as sns\n",
    "import matplotlib.pyplot as plt"
   ]
  },
  {
   "cell_type": "code",
   "execution_count": null,
   "id": "8f8b0e87",
   "metadata": {},
   "outputs": [],
   "source": [
    "df = pd.read_csv('data/raw/inventory_data.csv')\n",
    "df"
   ]
  },
  {
   "cell_type": "code",
   "execution_count": null,
   "id": "4b9611d1",
   "metadata": {},
   "outputs": [],
   "source": [
    "df.describe()"
   ]
  },
  {
   "cell_type": "code",
   "execution_count": null,
   "id": "c18a0f4c",
   "metadata": {},
   "outputs": [],
   "source": [
    "sns.barplot(x='ProductID', y='Annual_Demand', data=df); plt.title('Annual Demand by Product'); plt.show()"
   ]
  }
 ],
 "metadata": {},
 "nbformat": 4,
 "nbformat_minor": 5
}
