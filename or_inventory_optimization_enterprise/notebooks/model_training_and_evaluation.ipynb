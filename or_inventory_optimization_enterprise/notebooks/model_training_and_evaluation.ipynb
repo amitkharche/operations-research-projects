{
 "cells": [
  {
   "cell_type": "markdown",
   "id": "e58ea37b",
   "metadata": {},
   "source": [
    "# 📦 EOQ Optimization Walkthrough"
   ]
  },
  {
   "cell_type": "code",
   "execution_count": null,
   "id": "c3c2f342",
   "metadata": {},
   "outputs": [],
   "source": [
    "import pandas as pd\n",
    "from src.eoq_solver import optimize_inventory"
   ]
  },
  {
   "cell_type": "code",
   "execution_count": null,
   "id": "16913be6",
   "metadata": {},
   "outputs": [],
   "source": [
    "df = pd.read_csv('data/raw/inventory_data.csv')\n",
    "optimized = optimize_inventory(df)\n",
    "optimized"
   ]
  },
  {
   "cell_type": "code",
   "execution_count": null,
   "id": "fd89a8f4",
   "metadata": {},
   "outputs": [],
   "source": [
    "optimized[['ProductID', 'EOQ', 'Reorder_Frequency', 'Total_Cost']]"
   ]
  }
 ],
 "metadata": {},
 "nbformat": 4,
 "nbformat_minor": 5
}
