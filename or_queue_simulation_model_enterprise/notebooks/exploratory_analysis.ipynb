{
 "cells": [
  {
   "cell_type": "markdown",
   "id": "a235721a",
   "metadata": {},
   "source": [
    "# 📊 EDA - Queue Simulation Data"
   ]
  },
  {
   "cell_type": "code",
   "execution_count": null,
   "id": "0627a9c1",
   "metadata": {},
   "outputs": [],
   "source": [
    "import pandas as pd\n",
    "import matplotlib.pyplot as plt\n",
    "import seaborn as sns"
   ]
  },
  {
   "cell_type": "code",
   "execution_count": null,
   "id": "f2c5e12c",
   "metadata": {},
   "outputs": [],
   "source": [
    "df = pd.read_csv('data/raw/queue_data.csv')\n",
    "df.head()"
   ]
  },
  {
   "cell_type": "code",
   "execution_count": null,
   "id": "203dcce5",
   "metadata": {},
   "outputs": [],
   "source": [
    "df.describe()"
   ]
  },
  {
   "cell_type": "code",
   "execution_count": null,
   "id": "d819bedb",
   "metadata": {},
   "outputs": [],
   "source": [
    "sns.histplot(df['ArrivalTime'], kde=True); plt.title('Arrival Time Distribution'); plt.show()"
   ]
  },
  {
   "cell_type": "code",
   "execution_count": null,
   "id": "73d5c89d",
   "metadata": {},
   "outputs": [],
   "source": [
    "sns.histplot(df['ServiceTime'], kde=True); plt.title('Service Time Distribution'); plt.show()"
   ]
  }
 ],
 "metadata": {},
 "nbformat": 4,
 "nbformat_minor": 5
}
