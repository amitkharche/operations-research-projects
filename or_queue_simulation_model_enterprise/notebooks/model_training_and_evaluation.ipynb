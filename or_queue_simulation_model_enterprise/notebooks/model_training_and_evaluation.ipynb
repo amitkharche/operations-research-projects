{
 "cells": [
  {
   "cell_type": "markdown",
   "id": "6810a548",
   "metadata": {},
   "source": [
    "# 🔁 Queue Simulation Walkthrough"
   ]
  },
  {
   "cell_type": "code",
   "execution_count": null,
   "id": "5595d87d",
   "metadata": {},
   "outputs": [],
   "source": [
    "import pandas as pd\n",
    "from src.queue_simulator import simulate_queue"
   ]
  },
  {
   "cell_type": "code",
   "execution_count": null,
   "id": "b2dbb9ed",
   "metadata": {},
   "outputs": [],
   "source": [
    "df = pd.read_csv('data/raw/queue_data.csv')"
   ]
  },
  {
   "cell_type": "code",
   "execution_count": null,
   "id": "08429c9e",
   "metadata": {},
   "outputs": [],
   "source": [
    "simulated_df = simulate_queue(df)\n",
    "simulated_df.head()"
   ]
  },
  {
   "cell_type": "code",
   "execution_count": null,
   "id": "8dd8803d",
   "metadata": {},
   "outputs": [],
   "source": [
    "simulated_df[['ArrivalTime', 'StartTime', 'EndTime']].plot(title='Queue Timeline');"
   ]
  }
 ],
 "metadata": {},
 "nbformat": 4,
 "nbformat_minor": 5
}
