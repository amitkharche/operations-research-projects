{
 "cells": [
  {
   "cell_type": "markdown",
   "id": "c67648d8",
   "metadata": {},
   "source": [
    "# 📊 EDA: Transportation Optimization Problem"
   ]
  },
  {
   "cell_type": "code",
   "execution_count": null,
   "id": "7757f8cd",
   "metadata": {},
   "outputs": [],
   "source": [
    "import pandas as pd\n",
    "import seaborn as sns\n",
    "import matplotlib.pyplot as plt"
   ]
  },
  {
   "cell_type": "code",
   "execution_count": null,
   "id": "d5340e0a",
   "metadata": {},
   "outputs": [],
   "source": [
    "cost_df = pd.read_csv('data/raw/cost_matrix.csv', index_col=0)\n",
    "cost_df"
   ]
  },
  {
   "cell_type": "code",
   "execution_count": null,
   "id": "d7b5c2b0",
   "metadata": {},
   "outputs": [],
   "source": [
    "supply = pd.read_csv('data/raw/supply.csv', index_col=0).squeeze()\n",
    "supply"
   ]
  },
  {
   "cell_type": "code",
   "execution_count": null,
   "id": "a472207a",
   "metadata": {},
   "outputs": [],
   "source": [
    "demand = pd.read_csv('data/raw/demand.csv', index_col=0).squeeze()\n",
    "demand"
   ]
  },
  {
   "cell_type": "code",
   "execution_count": null,
   "id": "0c1c37eb",
   "metadata": {},
   "outputs": [],
   "source": [
    "sns.heatmap(cost_df, annot=True, cmap='Blues'); plt.title('Cost Matrix'); plt.show()"
   ]
  }
 ],
 "metadata": {},
 "nbformat": 4,
 "nbformat_minor": 5
}
