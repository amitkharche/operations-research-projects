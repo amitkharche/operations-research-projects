{
 "cells": [
  {
   "cell_type": "markdown",
   "id": "50df9347",
   "metadata": {},
   "source": [
    "# 🧮 Transportation Problem Solver (PuLP)"
   ]
  },
  {
   "cell_type": "code",
   "execution_count": null,
   "id": "ab621732",
   "metadata": {},
   "outputs": [],
   "source": [
    "import pandas as pd\n",
    "from src.optimizer import solve_transportation_problem"
   ]
  },
  {
   "cell_type": "code",
   "execution_count": null,
   "id": "4b3b6cd2",
   "metadata": {},
   "outputs": [],
   "source": [
    "cost_df = pd.read_csv('data/raw/cost_matrix.csv', index_col=0)"
   ]
  },
  {
   "cell_type": "code",
   "execution_count": null,
   "id": "9fe67dc6",
   "metadata": {},
   "outputs": [],
   "source": [
    "supply = pd.read_csv('data/raw/supply.csv', index_col=0).squeeze()"
   ]
  },
  {
   "cell_type": "code",
   "execution_count": null,
   "id": "ef6a5ca3",
   "metadata": {},
   "outputs": [],
   "source": [
    "demand = pd.read_csv('data/raw/demand.csv', index_col=0).squeeze()"
   ]
  },
  {
   "cell_type": "code",
   "execution_count": null,
   "id": "12da6eaa",
   "metadata": {},
   "outputs": [],
   "source": [
    "solution, total_cost = solve_transportation_problem(cost_df, supply, demand)\n",
    "solution"
   ]
  },
  {
   "cell_type": "code",
   "execution_count": null,
   "id": "3f2df99f",
   "metadata": {},
   "outputs": [],
   "source": [
    "print(f'Total Minimum Cost: {total_cost:.2f}')"
   ]
  }
 ],
 "metadata": {},
 "nbformat": 4,
 "nbformat_minor": 5
}
